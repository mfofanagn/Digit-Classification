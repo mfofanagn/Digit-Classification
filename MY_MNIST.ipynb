{
  "nbformat": 4,
  "nbformat_minor": 0,
  "metadata": {
    "colab": {
      "name": "MY_MNIST_2.ipynb",
      "provenance": [],
      "collapsed_sections": []
    },
    "kernelspec": {
      "name": "python3",
      "display_name": "Python 3"
    },
    "accelerator": "GPU"
  },
  "cells": [
    {
      "cell_type": "markdown",
      "metadata": {
        "id": "rFkOu9b-6yte"
      },
      "source": [
        "# ARTIFICIAL NEURAL NETWORKS FINAL PROJECT  : DIGITAL CLASSIFICATION \n",
        " \n",
        " -*- coding: utf-8 -*-\n",
        " \"\"\"\n",
        " Created on Fri Nov  6 08:39:13 2020\n",
        "\n",
        " @author: **Mamadi Fofana S20**\n",
        " \"\"\"\n",
        " \n",
        " \n",
        "# **I. Introduction**\n",
        "\n",
        " In this competition we are challenged with a digits classification task.\n",
        " The images are similar to MNIST, however they contain the background noise.\n",
        "\n",
        " This Optical Character Recognition (OCR) problem will be implemented  using  Sequential Convolutional Neural Network (CNN). \n",
        "A convolutional neural network (CNN, or ConvNet or shift invariant or space invariant) is a class of deep network,\n",
        "composed of one or more convolutional layers with fully connected layers (matching those in typical ANNs) on top.\n",
        "It uses tied weights and pooling layers. In particular, max-pooling.it is most commonly applied to analyzing visual imagery\n",
        "We will build it using keras API (Tensorflow backend) for its simplicity.     \n",
        "\n",
        "Since deep learning technology is resource intensive,\n",
        "we will implement our solution in the Google Colab environment which offers the advantage\n",
        "of being able to use the GPU capabilities and thus accelerate the execution.\n",
        "\n",
        "We will follow below steps:\n",
        "    \n",
        " •\tloading of the two datasets\n",
        "\n",
        " •\tdata wrangling (pre-processing data if necessary)\n",
        "\n",
        " •\texploration and visualization of data\n",
        "\n",
        " •  data splitting\n",
        "\n",
        " •\tmodel building \n",
        "\n",
        " •\tmodel evaluation\n",
        "\n",
        " •\tconclusion\n",
        "\n",
        "\n",
        "\n",
        " **Data Description**\n",
        "\n",
        " Dataset sample consists of 28x28 grayscale image, associated with a label from 10 classes(0 to 9).\n",
        " Dataset are flattened into a 784-elements array;each image is 28 pixels in height and 28 pixels in width,\n",
        " for a total of 784 pixels in total.\n",
        " Each pixel has a single pixel-value associated with it, indicating the lightness or darkness of that pixel, \n",
        " with higher numbers meaning darker. This pixel-value is an float between 0 and 1.\n",
        "    \n",
        "\n",
        "**File descriptions**\n",
        "\n",
        "  • train.csv - the training set\n",
        "\n",
        "  • test.csv - the test set\n",
        "\n",
        "  • sampleSubmission.csv - a sample submission file in the correct format\n",
        "  \n"
      ]
    },
    {
      "cell_type": "markdown",
      "metadata": {
        "id": "U26WV2DdVqY3"
      },
      "source": [
        "Import all required libraries"
      ]
    },
    {
      "cell_type": "code",
      "metadata": {
        "id": "IMPJmn_0Xs-8"
      },
      "source": [
        "import os\n",
        "import numpy as np\n",
        "import pandas as pd\n",
        "import matplotlib.pyplot as plt\n",
        "import matplotlib.image as mpimg\n",
        "import seaborn as sns\n",
        "%matplotlib inline\n",
        "\n",
        "from sklearn.model_selection import train_test_split\n",
        "from sklearn.metrics import confusion_matrix\n",
        "import itertools\n",
        "\n",
        "from keras.utils.np_utils import to_categorical \n",
        "from numpy import argmax\n",
        "from keras.models import Sequential\n",
        "from keras.layers import Dense, Dropout, Flatten, Conv2D, MaxPool2D\n",
        "from keras.optimizers import SGD, RMSprop\n",
        "from keras.preprocessing.image import ImageDataGenerator\n",
        "from keras.callbacks import ReduceLROnPlateau\n",
        "\n",
        "np.random.seed(100)\n"
      ],
      "execution_count": null,
      "outputs": []
    },
    {
      "cell_type": "markdown",
      "metadata": {
        "id": "wFEIO-gP68te"
      },
      "source": [
        "# **II. Data Modeling**\n",
        "\n",
        "**Loading the data**\n",
        "\n",
        "Loading data from google drive and intial data exploration\n",
        "\n",
        "Note that authentification is required in order to be able to connect to google drive"
      ]
    },
    {
      "cell_type": "code",
      "metadata": {
        "id": "C0lRIgh1X12r",
        "outputId": "71cc8fa5-871b-49e0-962b-a39058719ced",
        "colab": {
          "base_uri": "https://localhost:8080/"
        }
      },
      "source": [
        "from google.colab import drive\n",
        "drive.mount(\"/content/drive/\", force_remount=True)\n",
        "\n",
        "\n",
        "!cd \"/content/drive/My Drive\"\n",
        "\n",
        "train = pd.read_csv('/content/drive/My Drive/train_data.csv', header=None)\n",
        "test  = pd.read_csv('/content/drive/My Drive/test_data.csv', header=None)\n",
        "\n",
        "print(\"--Train data exploration---\")\n",
        "print(train.shape)\n",
        "print(train.head())\n",
        "#train.info()\n",
        "#train.describe()\n",
        "\n",
        "print(\"\\n --Test data exploration---\")\n",
        "print(test.shape)\n",
        "print(test.head())\n",
        "#print(test.info())\n",
        "#print(test.describe())"
      ],
      "execution_count": null,
      "outputs": [
        {
          "output_type": "stream",
          "text": [
            "Mounted at /content/drive/\n",
            "--Train data exploration---\n",
            "(12000, 785)\n",
            "        0         1         2         3    ...       781       782       783  784\n",
            "0  0.713940  0.950166  0.082491  0.473774  ...  0.497715  0.556270  0.698295  5.0\n",
            "1  0.207442  0.159942  0.052641  0.051342  ...  0.494685  0.203191  0.391003  7.0\n",
            "2  0.325839  0.056225  0.160836  0.759836  ...  0.407788  0.627825  0.673938  7.0\n",
            "3  0.456670  0.540038  0.424184  0.660162  ...  0.893934  0.707141  0.606010  1.0\n",
            "4  0.364102  0.175911  0.483085  0.126983  ...  0.895201  0.796101  0.432795  8.0\n",
            "\n",
            "[5 rows x 785 columns]\n",
            "\n",
            " --Test data exploration---\n",
            "(50000, 784)\n",
            "        0         1         2    ...       781       782       783\n",
            "0  0.923635  0.845687  0.392889  ...  0.914436  0.208952  0.818082\n",
            "1  0.007767  0.670740  0.951021  ...  0.680603  0.676337  0.950921\n",
            "2  0.358045  0.464620  0.437333  ...  0.439076  0.304218  0.776752\n",
            "3  0.529594  0.952398  0.106095  ...  0.000732  0.298122  0.661337\n",
            "4  0.615061  0.910934  0.610735  ...  0.183389  0.035798  0.067085\n",
            "\n",
            "[5 rows x 784 columns]\n"
          ],
          "name": "stdout"
        }
      ]
    },
    {
      "cell_type": "markdown",
      "metadata": {
        "id": "x-XURgM5AUl5"
      },
      "source": [
        "**Data wrangling**\n",
        "\n",
        "After data loading, our first task  will be  to  split train data set  between independants variables  and label.\n",
        "Then we will check eventual missing values in both training and test set\n",
        "\n",
        "We will then  reshape images in 3 dimensions (height = 28px, width = 28px , canal = 1) since Keras require channel for a 2D images data.\n",
        "\n",
        " Our data are gray scaled so they use only one channel\n",
        "\n",
        " Finally, we will encode our label as discrete values according to CNN requirements \n"
      ]
    },
    {
      "cell_type": "code",
      "metadata": {
        "id": "GFAQf4Q5ARor",
        "outputId": "4bde9075-113c-4a4d-9be2-8daca9627513",
        "colab": {
          "base_uri": "https://localhost:8080/",
          "height": 837
        }
      },
      "source": [
        "# create the training label , using only 'label' column (last column)\n",
        "Y_train = train[train.columns[-1]]\n",
        "\n",
        "# create the training set, by dropping 'label' column\n",
        "X_train = train.drop(train.columns[-1],axis = 1) \n",
        "\n",
        "\n",
        "#Check distribution of label category  in the training set \n",
        "g = sns.countplot(Y_train)\n",
        "\n",
        "print(\"We note a balanced distribution of labels in the training set  \\n\")\n",
        "\n",
        "# Check for missing value\n",
        "print(\"Checking missing value in train set \\n\")\n",
        "print(X_train.isnull().any().describe() )\n",
        "print(\"\\n\")\n",
        "\n",
        "print(\"Checking missing value in test set \\n\")\n",
        "print(test.isnull().any().describe())\n",
        "print(\"\\n\")\n",
        "\n",
        "print(\"we noticed that there are no missing  values in the training and test data set  \\n\")\n",
        "\n",
        "print(\" train data are comprised between {} and {} \\n\".format (min(X_train),max(X_train) ))\n",
        "print(\" test data are comprised between {} and {} \\n\".format (min(test),max(test) ))\n",
        "\n",
        "print(\" We noticed that data are already standardized around zero mean and unit variance.; that will help in  execution \\n\")\n",
        "\n",
        "#data reshaping\n",
        "X_train = X_train.values.reshape(-1,28,28,1)\n",
        "test = test.values.reshape(-1,28,28,1)\n",
        "\n",
        "# -1 in those 2 cases means values are inferred from the length of the array and remaining dimensions.\n",
        "#in order that the new shape should be compatible with the original shape. \n",
        "\n",
        "print(\"Train data set new dimension is {} \\n\".format(X_train.shape))\n",
        "\n",
        "# Encode labels to one hot vectors \n",
        "Y_train = to_categorical(Y_train, num_classes = 10)"
      ],
      "execution_count": null,
      "outputs": [
        {
          "output_type": "stream",
          "text": [
            "We note a balanced distribution of labels in the training set  \n",
            "\n",
            "Checking missing value in train set \n",
            "\n",
            "count       784\n",
            "unique        1\n",
            "top       False\n",
            "freq        784\n",
            "dtype: object\n",
            "\n",
            "\n",
            "Checking missing value in test set \n",
            "\n",
            "count       784\n",
            "unique        1\n",
            "top       False\n",
            "freq        784\n",
            "dtype: object\n",
            "\n",
            "\n",
            "we noticed that there are no missing  values in the training and test data set  \n",
            "\n",
            " train data are comprised between 0 and 783 \n",
            "\n",
            " test data are comprised between 0 and 783 \n",
            "\n",
            " We noticed that data are already standardized around zero mean and unit variance.; that will help in  execution \n",
            "\n",
            "Train data set new dimension is (12000, 28, 28, 1) \n",
            "\n"
          ],
          "name": "stdout"
        },
        {
          "output_type": "stream",
          "text": [
            "/usr/local/lib/python3.6/dist-packages/seaborn/_decorators.py:43: FutureWarning: Pass the following variable as a keyword arg: x. From version 0.12, the only valid positional argument will be `data`, and passing other arguments without an explicit keyword will result in an error or misinterpretation.\n",
            "  FutureWarning\n"
          ],
          "name": "stderr"
        },
        {
          "output_type": "display_data",
          "data": {
            "image/png": "[encoded data removed]",
            "text/plain": [
              "<Figure size 432x288 with 1 Axes>"
            ]
          },
          "metadata": {
            "tags": [],
            "needs_background": "light"
          }
        }
      ]
    },
    {
      "cell_type": "markdown",
      "metadata": {
        "id": "7tqyLfVkAvol"
      },
      "source": [
        "**Data splitting**\n",
        "\n"
      ]
    },
    {
      "cell_type": "code",
      "metadata": {
        "id": "HB7U_jbBAuze"
      },
      "source": [
        "# Set the random seed\n",
        "random_seed = 100\n",
        "\n",
        "# We choose 80 % for the training set and 20% for the validation set\n",
        "# To avoid unbalanced labels between train and validation set \n",
        "# We set option stratify to Y_train\n",
        "X_train, X_val, Y_train, Y_val = train_test_split(X_train, Y_train, test_size = 0.2, random_state=100, stratify = Y_train)\n",
        "#X_train, X_val, Y_train, Y_val = train_test_split(X_train, Y_train, test_size = 0.2, random_state=100)\n",
        "\n",
        "#print(Y_train.shape)\n",
        "#sns.countplot(argmax(Y_train[]))\n",
        "#sns.countplot(Y_val)\n"
      ],
      "execution_count": null,
      "outputs": []
    },
    {
      "cell_type": "markdown",
      "metadata": {
        "id": "jf1uL1nr_sQS"
      },
      "source": [
        " **Data Visualization**\n",
        " \n",
        "  Let's try to visualize some samples images\n"
      ]
    },
    {
      "cell_type": "code",
      "metadata": {
        "id": "0OYPPCjl6N35",
        "outputId": "b4ceaeb6-9586-4df6-a982-39574afd53cd",
        "colab": {
          "base_uri": "https://localhost:8080/",
          "height": 281
        }
      },
      "source": [
        "\n",
        "X_train_g = X_train.reshape(X_train.shape[0], 28, 28)\n",
        "for i in range(0, 9):\n",
        "    plt.subplot(330 + (i+1))\n",
        "    plt.imshow(X_train_g[i], cmap=plt.get_cmap('gray'))\n",
        "    plt.title(argmax(Y_train[i]));"
      ],
      "execution_count": null,
      "outputs": [
        {
          "output_type": "display_data",
          "data": {
            "image/png": "[encoded data removed]",
            "text/plain": [
              "<Figure size 432x288 with 9 Axes>"
            ]
          },
          "metadata": {
            "tags": [],
            "needs_background": "light"
          }
        }
      ]
    },
    {
      "cell_type": "markdown",
      "metadata": {
        "id": "R1KWZyqG-zWO"
      },
      "source": [
        "# **III. Model building**\n",
        "\n",
        "In this recognition/classification of images, We will use Keras framework, one of the most common utilizations of TensorFlow.\n",
        "\n",
        "TensorFlow is an open source library created for Python by the Google Brain team. TensorFlow compiles\n",
        "many different algorithms and models together, enabling the user to implement deep neural networks \n",
        "for use in tasks like image recognition/classification and natural language processing.\n",
        "\n",
        "Keras, it is a high-level API (application programming interface) that can use TensorFlow's functions\n",
        "underneath (as well as other ML libraries like Theano).\n",
        "Keras was designed with user-friendliness and modularity as its guiding principles.\n",
        "In practical terms, Keras makes implementing the many powerful but often complex functions of TensorFlow \n",
        "as simple as possible, and it's configured to work with Python without any major modifications or configuration.\n",
        "\n",
        "We will adopt sequential CNN model where  layers are added successively from the input.\n",
        "\n",
        "The first layer of our model is a convolutional layer. It will take in the inputs and run convolutional filters on them.\n",
        "We will play (tune) with filter values to select the best values\n",
        "\n",
        "This process is typically done with more than one filter, which helps preserve the complexity of the image\n",
        "\n",
        "The second layer in our model is the pooling (MaxPool2D) layer for  downsampling filter purpose.\n",
        "\n",
        "The third layer is Dropout  to prevent overfitting where a proportion of nodes in the layer are randomly ignored\n",
        "\n",
        "The fourth layer is Flatten layer used to convert the final feature maps into a one single 1D vector\n",
        "\n",
        "The final layer is Dense layer which outputs distribution of probability of each class.\n",
        "\n",
        "\n",
        "Activations function used will be Rectified Linear Unit (ReLU) and softmax\n",
        "\n",
        "our CNN architechture present like this -> [[Conv2D->relu] * 3 -> MaxPool2D -> Dropout] * 2 -> Flatten -> Dense -> Dropout -> Out\n"
      ]
    },
    {
      "cell_type": "code",
      "metadata": {
        "id": "HukIlb6Urvsk"
      },
      "source": [
        "# Set the CNN model \n",
        "\n",
        "model = Sequential()\n",
        "\n",
        "model.add(Conv2D(filters = 16, kernel_size = (5,5),padding = 'Same', \n",
        "                 activation ='relu', input_shape = (28,28,1)))\n",
        "model.add(Conv2D(filters = 16, kernel_size = (5,5),padding = 'Same', \n",
        "                 activation ='relu'))\n",
        "model.add(Conv2D(filters = 16, kernel_size = (5,5),padding = 'Same', \n",
        "                 activation ='relu'))\n",
        "\n",
        "model.add(MaxPool2D(pool_size=(2,2)))\n",
        "model.add(Dropout(0.3))\n",
        "\n",
        "\n",
        "model.add(Conv2D(filters = 32, kernel_size = (3,3),padding = 'Same', \n",
        "                 activation ='relu'))\n",
        "model.add(Conv2D(filters = 32, kernel_size = (3,3),padding = 'Same', \n",
        "                 activation ='relu'))\n",
        "model.add(Conv2D(filters = 32, kernel_size = (3,3),padding = 'Same', \n",
        "                 activation ='relu'))\n",
        "\n",
        "model.add(MaxPool2D(pool_size=(2,2), strides=(2,2)))\n",
        "model.add(Dropout(0.3))\n",
        "\n",
        "\n",
        "model.add(Flatten())\n",
        "model.add(Dense(256, activation = \"relu\"))\n",
        "\n",
        "model.add(Dropout(0.6))\n",
        "model.add(Dense(10, activation = \"softmax\"))"
      ],
      "execution_count": null,
      "outputs": []
    },
    {
      "cell_type": "markdown",
      "metadata": {
        "id": "BhZYYlhUA9lN"
      },
      "source": [
        "**Optimizer settings**\n",
        "\n",
        "After model building, we have to compile it.\n",
        "In this step we will specify hyperparameters(numbers of epochs , batches)  and optimizer\n",
        "The optimizer  will tune the weights in our network to minimise the loss\n",
        "\n",
        "The metric function \"accuracy\" will be used to evaluate the performance of  our model\n",
        "\n",
        "We will test several optimizer types:\n",
        "  Stochastic Gradient Descent ('sgd') \n",
        "  RMSprop \n",
        "\n",
        "and compare the result to select the best one\n",
        "\n",
        "We will also use an annealing method of the learning rate (LR) in order\n",
        "to make the optimizer converge faster and closest to the global minimum of the loss function "
      ]
    },
    {
      "cell_type": "code",
      "metadata": {
        "id": "fDVjKq2TA93e"
      },
      "source": [
        "# Define the optimizer\n",
        "optimizer = RMSprop(lr=0.001, rho=0.9, epsilon=1e-08, decay=0.0)\n",
        "#optinizer = SGD(learning_rate=0.0001, momentum=0.0, nesterov=False, name=\"SGD\")\n",
        "\n",
        "# model compilation\n",
        "model.compile(optimizer = optimizer , loss = \"categorical_crossentropy\", metrics=[\"accuracy\"])\n",
        "\n",
        "\n",
        "# Set a learning rate annealer\n",
        "learning_rate_reduction = ReduceLROnPlateau(monitor='val_acc', \n",
        "                                            patience=3, \n",
        "                                            verbose=1, \n",
        "                                            factor=0.5, \n",
        "                                            min_lr=0.00001)\n",
        "\n",
        "epochs = 60\n",
        "batch_size = 60"
      ],
      "execution_count": null,
      "outputs": []
    },
    {
      "cell_type": "markdown",
      "metadata": {
        "id": "yqre-v2MB9EJ"
      },
      "source": [
        "**Regularization - Data augmentation** \n",
        "\n",
        "Data augmentation is useful to prevent overfitting issue.\n",
        "We will try to artificially make some small transformtions in our handwritten digit dataset to reflect \n",
        "variations observed  in differents writting style . \n",
        "\n",
        "After testing, we have noticed some improvements with  data augmentation"
      ]
    },
    {
      "cell_type": "code",
      "metadata": {
        "id": "gIrTGLnOB8qC"
      },
      "source": [
        "\n",
        "data_aug = ImageDataGenerator(\n",
        "        featurewise_center=False,  # set input mean to 0 over the dataset\n",
        "        samplewise_center=False,  # set each sample mean to 0\n",
        "        featurewise_std_normalization=False,  # divide inputs by std of the dataset\n",
        "        samplewise_std_normalization=False,  # divide each input by its std\n",
        "        zca_whitening=False,  # apply ZCA whitening\n",
        "        rotation_range=10,  # randomly rotate images in the range (degrees, 0 to 180)\n",
        "        zoom_range = 0.1, # Randomly zoom image \n",
        "        width_shift_range=0.1,  # randomly shift images horizontally (fraction of total width)\n",
        "        height_shift_range=0.1,  # randomly shift images vertically (fraction of total height)\n",
        "        horizontal_flip=False,  # randomly flip images\n",
        "        vertical_flip=False)  # randomly flip images\n",
        "\n",
        "\n",
        "data_aug.fit(X_train)"
      ],
      "execution_count": null,
      "outputs": []
    },
    {
      "cell_type": "markdown",
      "metadata": {
        "id": "fa3fXMEiXB38"
      },
      "source": [
        "**Model evaluation**\n",
        "\n"
      ]
    },
    {
      "cell_type": "code",
      "metadata": {
        "id": "kliz7e3cW7G4",
        "outputId": "d911b54e-12a5-4526-ad8e-e52012483e42",
        "colab": {
          "base_uri": "https://localhost:8080/"
        }
      },
      "source": [
        "history = model.fit_generator(data_aug.flow(X_train,Y_train, batch_size=batch_size),\n",
        "                              epochs = epochs, validation_data = (X_val,Y_val),\n",
        "                              verbose = 2, steps_per_epoch=X_train.shape[0] // batch_size\n",
        "                              , callbacks=[learning_rate_reduction])\n",
        "\n",
        "\n",
        "Y_pred = model.predict(test)\n",
        "\n",
        "# Revrse conversion predictions from one hot vectors to  classes  \n",
        "Y_pred_classes = np.argmax(Y_pred,axis = 1) \n",
        "\n",
        "pd.DataFrame(Y_pred_classes).to_csv(\"/content/drive/My Drive/pred.csv\")"
      ],
      "execution_count": null,
      "outputs": [
        {
          "output_type": "stream",
          "text": [
            "Epoch 1/60\n",
            "WARNING:tensorflow:Reduce LR on plateau conditioned on metric `val_acc` which is not available. Available metrics are: loss,accuracy,val_loss,val_accuracy,lr\n",
            "160/160 - 3s - loss: 2.1093 - accuracy: 0.2134 - val_loss: 1.0319 - val_accuracy: 0.7412\n",
            "Epoch 2/60\n",
            "WARNING:tensorflow:Reduce LR on plateau conditioned on metric `val_acc` which is not available. Available metrics are: loss,accuracy,val_loss,val_accuracy,lr\n",
            "160/160 - 3s - loss: 1.1972 - accuracy: 0.5995 - val_loss: 0.4810 - val_accuracy: 0.8533\n",
            "Epoch 3/60\n",
            "WARNING:tensorflow:Reduce LR on plateau conditioned on metric `val_acc` which is not available. Available metrics are: loss,accuracy,val_loss,val_accuracy,lr\n",
            "160/160 - 3s - loss: 0.8045 - accuracy: 0.7389 - val_loss: 0.5422 - val_accuracy: 0.8300\n",
            "Epoch 4/60\n",
            "WARNING:tensorflow:Reduce LR on plateau conditioned on metric `val_acc` which is not available. Available metrics are: loss,accuracy,val_loss,val_accuracy,lr\n",
            "160/160 - 3s - loss: 0.6176 - accuracy: 0.8067 - val_loss: 0.3108 - val_accuracy: 0.9008\n",
            "Epoch 5/60\n",
            "WARNING:tensorflow:Reduce LR on plateau conditioned on metric `val_acc` which is not available. Available metrics are: loss,accuracy,val_loss,val_accuracy,lr\n",
            "160/160 - 3s - loss: 0.5163 - accuracy: 0.8381 - val_loss: 0.2976 - val_accuracy: 0.9054\n",
            "Epoch 6/60\n",
            "WARNING:tensorflow:Reduce LR on plateau conditioned on metric `val_acc` which is not available. Available metrics are: loss,accuracy,val_loss,val_accuracy,lr\n",
            "160/160 - 3s - loss: 0.4327 - accuracy: 0.8681 - val_loss: 0.2518 - val_accuracy: 0.9192\n",
            "Epoch 7/60\n",
            "WARNING:tensorflow:Reduce LR on plateau conditioned on metric `val_acc` which is not available. Available metrics are: loss,accuracy,val_loss,val_accuracy,lr\n",
            "160/160 - 3s - loss: 0.3944 - accuracy: 0.8791 - val_loss: 0.1784 - val_accuracy: 0.9429\n",
            "Epoch 8/60\n",
            "WARNING:tensorflow:Reduce LR on plateau conditioned on metric `val_acc` which is not available. Available metrics are: loss,accuracy,val_loss,val_accuracy,lr\n",
            "160/160 - 3s - loss: 0.3691 - accuracy: 0.8854 - val_loss: 0.1528 - val_accuracy: 0.9463\n",
            "Epoch 9/60\n",
            "WARNING:tensorflow:Reduce LR on plateau conditioned on metric `val_acc` which is not available. Available metrics are: loss,accuracy,val_loss,val_accuracy,lr\n",
            "160/160 - 3s - loss: 0.3432 - accuracy: 0.8968 - val_loss: 0.1627 - val_accuracy: 0.9479\n",
            "Epoch 10/60\n",
            "WARNING:tensorflow:Reduce LR on plateau conditioned on metric `val_acc` which is not available. Available metrics are: loss,accuracy,val_loss,val_accuracy,lr\n",
            "160/160 - 3s - loss: 0.3292 - accuracy: 0.9005 - val_loss: 0.1488 - val_accuracy: 0.9546\n",
            "Epoch 11/60\n",
            "WARNING:tensorflow:Reduce LR on plateau conditioned on metric `val_acc` which is not available. Available metrics are: loss,accuracy,val_loss,val_accuracy,lr\n",
            "160/160 - 3s - loss: 0.3015 - accuracy: 0.9052 - val_loss: 0.2179 - val_accuracy: 0.9383\n",
            "Epoch 12/60\n",
            "WARNING:tensorflow:Reduce LR on plateau conditioned on metric `val_acc` which is not available. Available metrics are: loss,accuracy,val_loss,val_accuracy,lr\n",
            "160/160 - 3s - loss: 0.2939 - accuracy: 0.9085 - val_loss: 0.1426 - val_accuracy: 0.9525\n",
            "Epoch 13/60\n",
            "WARNING:tensorflow:Reduce LR on plateau conditioned on metric `val_acc` which is not available. Available metrics are: loss,accuracy,val_loss,val_accuracy,lr\n",
            "160/160 - 3s - loss: 0.2681 - accuracy: 0.9167 - val_loss: 0.1777 - val_accuracy: 0.9438\n",
            "Epoch 14/60\n",
            "WARNING:tensorflow:Reduce LR on plateau conditioned on metric `val_acc` which is not available. Available metrics are: loss,accuracy,val_loss,val_accuracy,lr\n",
            "160/160 - 3s - loss: 0.2645 - accuracy: 0.9200 - val_loss: 0.1735 - val_accuracy: 0.9446\n",
            "Epoch 15/60\n",
            "WARNING:tensorflow:Reduce LR on plateau conditioned on metric `val_acc` which is not available. Available metrics are: loss,accuracy,val_loss,val_accuracy,lr\n",
            "160/160 - 3s - loss: 0.2562 - accuracy: 0.9203 - val_loss: 0.1829 - val_accuracy: 0.9408\n",
            "Epoch 16/60\n",
            "WARNING:tensorflow:Reduce LR on plateau conditioned on metric `val_acc` which is not available. Available metrics are: loss,accuracy,val_loss,val_accuracy,lr\n",
            "160/160 - 3s - loss: 0.2384 - accuracy: 0.9266 - val_loss: 0.1242 - val_accuracy: 0.9596\n",
            "Epoch 17/60\n",
            "WARNING:tensorflow:Reduce LR on plateau conditioned on metric `val_acc` which is not available. Available metrics are: loss,accuracy,val_loss,val_accuracy,lr\n",
            "160/160 - 3s - loss: 0.2397 - accuracy: 0.9261 - val_loss: 0.1258 - val_accuracy: 0.9583\n",
            "Epoch 18/60\n",
            "WARNING:tensorflow:Reduce LR on plateau conditioned on metric `val_acc` which is not available. Available metrics are: loss,accuracy,val_loss,val_accuracy,lr\n",
            "160/160 - 3s - loss: 0.2471 - accuracy: 0.9230 - val_loss: 0.1273 - val_accuracy: 0.9554\n",
            "Epoch 19/60\n",
            "WARNING:tensorflow:Reduce LR on plateau conditioned on metric `val_acc` which is not available. Available metrics are: loss,accuracy,val_loss,val_accuracy,lr\n",
            "160/160 - 3s - loss: 0.2188 - accuracy: 0.9299 - val_loss: 0.1587 - val_accuracy: 0.9521\n",
            "Epoch 20/60\n",
            "WARNING:tensorflow:Reduce LR on plateau conditioned on metric `val_acc` which is not available. Available metrics are: loss,accuracy,val_loss,val_accuracy,lr\n",
            "160/160 - 3s - loss: 0.2236 - accuracy: 0.9301 - val_loss: 0.1365 - val_accuracy: 0.9529\n",
            "Epoch 21/60\n",
            "WARNING:tensorflow:Reduce LR on plateau conditioned on metric `val_acc` which is not available. Available metrics are: loss,accuracy,val_loss,val_accuracy,lr\n",
            "160/160 - 3s - loss: 0.2237 - accuracy: 0.9311 - val_loss: 0.1118 - val_accuracy: 0.9604\n",
            "Epoch 22/60\n",
            "WARNING:tensorflow:Reduce LR on plateau conditioned on metric `val_acc` which is not available. Available metrics are: loss,accuracy,val_loss,val_accuracy,lr\n",
            "160/160 - 3s - loss: 0.2055 - accuracy: 0.9380 - val_loss: 0.1094 - val_accuracy: 0.9675\n",
            "Epoch 23/60\n",
            "WARNING:tensorflow:Reduce LR on plateau conditioned on metric `val_acc` which is not available. Available metrics are: loss,accuracy,val_loss,val_accuracy,lr\n",
            "160/160 - 3s - loss: 0.2041 - accuracy: 0.9373 - val_loss: 0.0894 - val_accuracy: 0.9688\n",
            "Epoch 24/60\n",
            "WARNING:tensorflow:Reduce LR on plateau conditioned on metric `val_acc` which is not available. Available metrics are: loss,accuracy,val_loss,val_accuracy,lr\n",
            "160/160 - 3s - loss: 0.2126 - accuracy: 0.9353 - val_loss: 0.0992 - val_accuracy: 0.9658\n",
            "Epoch 25/60\n",
            "WARNING:tensorflow:Reduce LR on plateau conditioned on metric `val_acc` which is not available. Available metrics are: loss,accuracy,val_loss,val_accuracy,lr\n",
            "160/160 - 3s - loss: 0.2021 - accuracy: 0.9390 - val_loss: 0.0922 - val_accuracy: 0.9704\n",
            "Epoch 26/60\n",
            "WARNING:tensorflow:Reduce LR on plateau conditioned on metric `val_acc` which is not available. Available metrics are: loss,accuracy,val_loss,val_accuracy,lr\n",
            "160/160 - 3s - loss: 0.1932 - accuracy: 0.9379 - val_loss: 0.1066 - val_accuracy: 0.9663\n",
            "Epoch 27/60\n",
            "WARNING:tensorflow:Reduce LR on plateau conditioned on metric `val_acc` which is not available. Available metrics are: loss,accuracy,val_loss,val_accuracy,lr\n",
            "160/160 - 3s - loss: 0.1966 - accuracy: 0.9391 - val_loss: 0.1121 - val_accuracy: 0.9588\n",
            "Epoch 28/60\n",
            "WARNING:tensorflow:Reduce LR on plateau conditioned on metric `val_acc` which is not available. Available metrics are: loss,accuracy,val_loss,val_accuracy,lr\n",
            "160/160 - 3s - loss: 0.1899 - accuracy: 0.9446 - val_loss: 0.1378 - val_accuracy: 0.9546\n",
            "Epoch 29/60\n",
            "WARNING:tensorflow:Reduce LR on plateau conditioned on metric `val_acc` which is not available. Available metrics are: loss,accuracy,val_loss,val_accuracy,lr\n",
            "160/160 - 3s - loss: 0.1976 - accuracy: 0.9398 - val_loss: 0.1233 - val_accuracy: 0.9617\n",
            "Epoch 30/60\n",
            "WARNING:tensorflow:Reduce LR on plateau conditioned on metric `val_acc` which is not available. Available metrics are: loss,accuracy,val_loss,val_accuracy,lr\n",
            "160/160 - 3s - loss: 0.2000 - accuracy: 0.9405 - val_loss: 0.1293 - val_accuracy: 0.9638\n",
            "Epoch 31/60\n",
            "WARNING:tensorflow:Reduce LR on plateau conditioned on metric `val_acc` which is not available. Available metrics are: loss,accuracy,val_loss,val_accuracy,lr\n",
            "160/160 - 3s - loss: 0.1878 - accuracy: 0.9432 - val_loss: 0.1448 - val_accuracy: 0.9538\n",
            "Epoch 32/60\n",
            "WARNING:tensorflow:Reduce LR on plateau conditioned on metric `val_acc` which is not available. Available metrics are: loss,accuracy,val_loss,val_accuracy,lr\n",
            "160/160 - 3s - loss: 0.1936 - accuracy: 0.9438 - val_loss: 0.1106 - val_accuracy: 0.9704\n",
            "Epoch 33/60\n",
            "WARNING:tensorflow:Reduce LR on plateau conditioned on metric `val_acc` which is not available. Available metrics are: loss,accuracy,val_loss,val_accuracy,lr\n",
            "160/160 - 3s - loss: 0.1905 - accuracy: 0.9439 - val_loss: 0.0940 - val_accuracy: 0.9700\n",
            "Epoch 34/60\n",
            "WARNING:tensorflow:Reduce LR on plateau conditioned on metric `val_acc` which is not available. Available metrics are: loss,accuracy,val_loss,val_accuracy,lr\n",
            "160/160 - 3s - loss: 0.1817 - accuracy: 0.9452 - val_loss: 0.1070 - val_accuracy: 0.9675\n",
            "Epoch 35/60\n",
            "WARNING:tensorflow:Reduce LR on plateau conditioned on metric `val_acc` which is not available. Available metrics are: loss,accuracy,val_loss,val_accuracy,lr\n",
            "160/160 - 3s - loss: 0.1745 - accuracy: 0.9475 - val_loss: 0.1649 - val_accuracy: 0.9588\n",
            "Epoch 36/60\n",
            "WARNING:tensorflow:Reduce LR on plateau conditioned on metric `val_acc` which is not available. Available metrics are: loss,accuracy,val_loss,val_accuracy,lr\n",
            "160/160 - 3s - loss: 0.1853 - accuracy: 0.9471 - val_loss: 0.0982 - val_accuracy: 0.9688\n",
            "Epoch 37/60\n",
            "WARNING:tensorflow:Reduce LR on plateau conditioned on metric `val_acc` which is not available. Available metrics are: loss,accuracy,val_loss,val_accuracy,lr\n",
            "160/160 - 3s - loss: 0.1886 - accuracy: 0.9451 - val_loss: 0.1079 - val_accuracy: 0.9683\n",
            "Epoch 38/60\n",
            "WARNING:tensorflow:Reduce LR on plateau conditioned on metric `val_acc` which is not available. Available metrics are: loss,accuracy,val_loss,val_accuracy,lr\n",
            "160/160 - 3s - loss: 0.1774 - accuracy: 0.9465 - val_loss: 0.1648 - val_accuracy: 0.9563\n",
            "Epoch 39/60\n",
            "WARNING:tensorflow:Reduce LR on plateau conditioned on metric `val_acc` which is not available. Available metrics are: loss,accuracy,val_loss,val_accuracy,lr\n",
            "160/160 - 3s - loss: 0.1816 - accuracy: 0.9450 - val_loss: 0.0988 - val_accuracy: 0.9688\n",
            "Epoch 40/60\n",
            "WARNING:tensorflow:Reduce LR on plateau conditioned on metric `val_acc` which is not available. Available metrics are: loss,accuracy,val_loss,val_accuracy,lr\n",
            "160/160 - 3s - loss: 0.1748 - accuracy: 0.9477 - val_loss: 0.1065 - val_accuracy: 0.9642\n",
            "Epoch 41/60\n",
            "WARNING:tensorflow:Reduce LR on plateau conditioned on metric `val_acc` which is not available. Available metrics are: loss,accuracy,val_loss,val_accuracy,lr\n",
            "160/160 - 3s - loss: 0.1809 - accuracy: 0.9476 - val_loss: 0.1434 - val_accuracy: 0.9596\n",
            "Epoch 42/60\n",
            "WARNING:tensorflow:Reduce LR on plateau conditioned on metric `val_acc` which is not available. Available metrics are: loss,accuracy,val_loss,val_accuracy,lr\n",
            "160/160 - 3s - loss: 0.1855 - accuracy: 0.9468 - val_loss: 0.0954 - val_accuracy: 0.9700\n",
            "Epoch 43/60\n",
            "WARNING:tensorflow:Reduce LR on plateau conditioned on metric `val_acc` which is not available. Available metrics are: loss,accuracy,val_loss,val_accuracy,lr\n",
            "160/160 - 3s - loss: 0.1822 - accuracy: 0.9478 - val_loss: 0.1160 - val_accuracy: 0.9646\n",
            "Epoch 44/60\n",
            "WARNING:tensorflow:Reduce LR on plateau conditioned on metric `val_acc` which is not available. Available metrics are: loss,accuracy,val_loss,val_accuracy,lr\n",
            "160/160 - 3s - loss: 0.1722 - accuracy: 0.9482 - val_loss: 0.1042 - val_accuracy: 0.9725\n",
            "Epoch 45/60\n",
            "WARNING:tensorflow:Reduce LR on plateau conditioned on metric `val_acc` which is not available. Available metrics are: loss,accuracy,val_loss,val_accuracy,lr\n",
            "160/160 - 3s - loss: 0.1911 - accuracy: 0.9447 - val_loss: 0.0929 - val_accuracy: 0.9683\n",
            "Epoch 46/60\n",
            "WARNING:tensorflow:Reduce LR on plateau conditioned on metric `val_acc` which is not available. Available metrics are: loss,accuracy,val_loss,val_accuracy,lr\n",
            "160/160 - 3s - loss: 0.1706 - accuracy: 0.9508 - val_loss: 0.1105 - val_accuracy: 0.9675\n",
            "Epoch 47/60\n",
            "WARNING:tensorflow:Reduce LR on plateau conditioned on metric `val_acc` which is not available. Available metrics are: loss,accuracy,val_loss,val_accuracy,lr\n",
            "160/160 - 3s - loss: 0.1774 - accuracy: 0.9471 - val_loss: 0.1170 - val_accuracy: 0.9675\n",
            "Epoch 48/60\n",
            "WARNING:tensorflow:Reduce LR on plateau conditioned on metric `val_acc` which is not available. Available metrics are: loss,accuracy,val_loss,val_accuracy,lr\n",
            "160/160 - 3s - loss: 0.1771 - accuracy: 0.9475 - val_loss: 0.1125 - val_accuracy: 0.9663\n",
            "Epoch 49/60\n",
            "WARNING:tensorflow:Reduce LR on plateau conditioned on metric `val_acc` which is not available. Available metrics are: loss,accuracy,val_loss,val_accuracy,lr\n",
            "160/160 - 3s - loss: 0.1732 - accuracy: 0.9500 - val_loss: 0.1009 - val_accuracy: 0.9683\n",
            "Epoch 50/60\n",
            "WARNING:tensorflow:Reduce LR on plateau conditioned on metric `val_acc` which is not available. Available metrics are: loss,accuracy,val_loss,val_accuracy,lr\n",
            "160/160 - 3s - loss: 0.1740 - accuracy: 0.9456 - val_loss: 0.0994 - val_accuracy: 0.9663\n",
            "Epoch 51/60\n",
            "WARNING:tensorflow:Reduce LR on plateau conditioned on metric `val_acc` which is not available. Available metrics are: loss,accuracy,val_loss,val_accuracy,lr\n",
            "160/160 - 3s - loss: 0.1854 - accuracy: 0.9445 - val_loss: 0.1413 - val_accuracy: 0.9592\n",
            "Epoch 52/60\n",
            "WARNING:tensorflow:Reduce LR on plateau conditioned on metric `val_acc` which is not available. Available metrics are: loss,accuracy,val_loss,val_accuracy,lr\n",
            "160/160 - 3s - loss: 0.1797 - accuracy: 0.9497 - val_loss: 0.0952 - val_accuracy: 0.9667\n",
            "Epoch 53/60\n",
            "WARNING:tensorflow:Reduce LR on plateau conditioned on metric `val_acc` which is not available. Available metrics are: loss,accuracy,val_loss,val_accuracy,lr\n",
            "160/160 - 3s - loss: 0.1746 - accuracy: 0.9496 - val_loss: 0.0873 - val_accuracy: 0.9717\n",
            "Epoch 54/60\n",
            "WARNING:tensorflow:Reduce LR on plateau conditioned on metric `val_acc` which is not available. Available metrics are: loss,accuracy,val_loss,val_accuracy,lr\n",
            "160/160 - 3s - loss: 0.1774 - accuracy: 0.9479 - val_loss: 0.1348 - val_accuracy: 0.9600\n",
            "Epoch 55/60\n",
            "WARNING:tensorflow:Reduce LR on plateau conditioned on metric `val_acc` which is not available. Available metrics are: loss,accuracy,val_loss,val_accuracy,lr\n",
            "160/160 - 3s - loss: 0.1849 - accuracy: 0.9442 - val_loss: 0.1062 - val_accuracy: 0.9663\n",
            "Epoch 56/60\n",
            "WARNING:tensorflow:Reduce LR on plateau conditioned on metric `val_acc` which is not available. Available metrics are: loss,accuracy,val_loss,val_accuracy,lr\n",
            "160/160 - 3s - loss: 0.1856 - accuracy: 0.9473 - val_loss: 0.0912 - val_accuracy: 0.9683\n",
            "Epoch 57/60\n",
            "WARNING:tensorflow:Reduce LR on plateau conditioned on metric `val_acc` which is not available. Available metrics are: loss,accuracy,val_loss,val_accuracy,lr\n",
            "160/160 - 3s - loss: 0.1806 - accuracy: 0.9482 - val_loss: 0.0948 - val_accuracy: 0.9654\n",
            "Epoch 58/60\n",
            "WARNING:tensorflow:Reduce LR on plateau conditioned on metric `val_acc` which is not available. Available metrics are: loss,accuracy,val_loss,val_accuracy,lr\n",
            "160/160 - 3s - loss: 0.1798 - accuracy: 0.9472 - val_loss: 0.1046 - val_accuracy: 0.9650\n",
            "Epoch 59/60\n",
            "WARNING:tensorflow:Reduce LR on plateau conditioned on metric `val_acc` which is not available. Available metrics are: loss,accuracy,val_loss,val_accuracy,lr\n",
            "160/160 - 3s - loss: 0.1811 - accuracy: 0.9488 - val_loss: 0.1594 - val_accuracy: 0.9533\n",
            "Epoch 60/60\n",
            "WARNING:tensorflow:Reduce LR on plateau conditioned on metric `val_acc` which is not available. Available metrics are: loss,accuracy,val_loss,val_accuracy,lr\n",
            "160/160 - 3s - loss: 0.1850 - accuracy: 0.9465 - val_loss: 0.1361 - val_accuracy: 0.9604\n"
          ],
          "name": "stdout"
        }
      ]
    },
    {
      "cell_type": "markdown",
      "metadata": {
        "id": "TW2ULj-_DPuV"
      },
      "source": [
        "# **IV. Conclusion**\n",
        "\n",
        "Our  model reaches almost 96% of accuracy on the validation dataset after several  epochs. The validation accuracy is greater than the training accuracy almost every time during the training. That means that our model dosen't not overfit the training set.\n",
        "\n",
        "We  noticed plenty parameters ,  hyper-parameters and optimizers  which could be tuned in order to improve our model.it would be a good idea to play around with the model and see how changing those parameters affects its performance.\n",
        "\n",
        "We have also noticed a huge difference in term of performance between GPU execution mode and no GPU execution mode\n",
        "\n",
        "It could be more interesting to use cross validation in order to select automatically the best parameters and hyperparaneters."
      ]
    },
    {
      "cell_type": "code",
      "metadata": {
        "id": "E38kYTwuDP-Z"
      },
      "source": [
        ""
      ],
      "execution_count": null,
      "outputs": []
    }
  ]
}